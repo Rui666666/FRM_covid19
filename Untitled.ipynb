{
 "cells": [
  {
   "cell_type": "code",
   "execution_count": 7,
   "metadata": {},
   "outputs": [
    {
     "data": {
      "text/html": [
       "        <script type=\"text/javascript\">\n",
       "        window.PlotlyConfig = {MathJaxConfig: 'local'};\n",
       "        if (window.MathJax) {MathJax.Hub.Config({SVG: {font: \"STIX-Web\"}});}\n",
       "        if (typeof require !== 'undefined') {\n",
       "        require.undef(\"plotly\");\n",
       "        requirejs.config({\n",
       "            paths: {\n",
       "                'plotly': ['https://cdn.plot.ly/plotly-latest.min']\n",
       "            }\n",
       "        });\n",
       "        require(['plotly'], function(Plotly) {\n",
       "            window._Plotly = Plotly;\n",
       "        });\n",
       "        }\n",
       "        </script>\n",
       "        "
      ]
     },
     "metadata": {},
     "output_type": "display_data"
    }
   ],
   "source": [
    "import pandas as pd\n",
    "import matplotlib\n",
    "import matplotlib.pyplot as plt\n",
    "import plotly.express as px\n",
    "import numpy as np\n",
    "import scipy.optimize as opt\n",
    "from pandas.plotting import register_matplotlib_converters\n",
    "register_matplotlib_converters()\n",
    "from plotly.offline import init_notebook_mode, plot, iplot\n",
    "import plotly.graph_objs as go\n",
    "from mpl_toolkits.mplot3d import Axes3D\n",
    "from scipy.integrate import quad\n",
    "import matplotlib.pyplot as plt\n",
    "from tools import *\n",
    "\n",
    "init_notebook_mode(connected=True)"
   ]
  },
  {
   "cell_type": "code",
   "execution_count": 8,
   "metadata": {},
   "outputs": [
    {
     "name": "stderr",
     "output_type": "stream",
     "text": [
      "/Users/francis/opt/anaconda3/lib/python3.7/site-packages/ipykernel_launcher.py:7: SettingWithCopyWarning:\n",
      "\n",
      "\n",
      "A value is trying to be set on a copy of a slice from a DataFrame.\n",
      "Try using .loc[row_indexer,col_indexer] = value instead\n",
      "\n",
      "See the caveats in the documentation: http://pandas.pydata.org/pandas-docs/stable/user_guide/indexing.html#returning-a-view-versus-a-copy\n",
      "\n"
     ]
    }
   ],
   "source": [
    "y0 = df1987.Lambda.iloc[0]\n",
    "y = df1987.Lambda - y0\n",
    "x = np.arange(len(y))+1\n",
    "\n",
    "(N_0, K, r), cov = opt.curve_fit(hubbert_curve, x[1:], y[1:], p0 = (0, 0.1, 0.1), bounds = ([-1,0,0], [100,100,100]))\n",
    "\n",
    "df1987['Fitted'] = pd.Series(hubbert_curve(t = x, N_0 = N_0, K = K, r =r)+y0, index = df1987.index)\n",
    "\n",
    "\n",
    "df1987_long = pd.melt(df1987, id_vars=['Date'], value_vars=['Lambda', 'Fitted'])\n",
    "# fig = px.line(data_frame = df1987_long,\n",
    "#               x = 'Date', y = \"value\", color = \"variable\",\n",
    "#               template = \"ggplot2\",\n",
    "#               title = \"1987 crisis, from 1987-08-01 to 1988-06-01\", labels = {\"Lambda\":\"FRM Lambda\"})\n",
    "# fig.show()\n",
    "# plt.figure(figsize=(16,9))\n",
    "# plt.title(\"1987 crisis, from 1987-08-01 to 1988-06-01\")\n",
    "# plt.plot(x,y, label = 'FRM Lambda')\n",
    "# plt.plot(hubbert_curve(t = x, N_0 = N_0, K = K, r =r), label = 'Fitted Hubbert Curve')\n",
    "# plt.legend()\n"
   ]
  },
  {
   "cell_type": "code",
   "execution_count": 9,
   "metadata": {},
   "outputs": [
    {
     "name": "stderr",
     "output_type": "stream",
     "text": [
      "/Users/francis/opt/anaconda3/lib/python3.7/site-packages/ipykernel_launcher.py:8: SettingWithCopyWarning:\n",
      "\n",
      "\n",
      "A value is trying to be set on a copy of a slice from a DataFrame.\n",
      "Try using .loc[row_indexer,col_indexer] = value instead\n",
      "\n",
      "See the caveats in the documentation: http://pandas.pydata.org/pandas-docs/stable/user_guide/indexing.html#returning-a-view-versus-a-copy\n",
      "\n",
      "/Users/francis/opt/anaconda3/lib/python3.7/site-packages/ipykernel_launcher.py:13: SettingWithCopyWarning:\n",
      "\n",
      "\n",
      "A value is trying to be set on a copy of a slice from a DataFrame.\n",
      "Try using .loc[row_indexer,col_indexer] = value instead\n",
      "\n",
      "See the caveats in the documentation: http://pandas.pydata.org/pandas-docs/stable/user_guide/indexing.html#returning-a-view-versus-a-copy\n",
      "\n",
      "/Users/francis/opt/anaconda3/lib/python3.7/site-packages/ipykernel_launcher.py:21: SettingWithCopyWarning:\n",
      "\n",
      "\n",
      "A value is trying to be set on a copy of a slice from a DataFrame.\n",
      "Try using .loc[row_indexer,col_indexer] = value instead\n",
      "\n",
      "See the caveats in the documentation: http://pandas.pydata.org/pandas-docs/stable/user_guide/indexing.html#returning-a-view-versus-a-copy\n",
      "\n"
     ]
    }
   ],
   "source": [
    "df = pd.read_csv('data/FRM_SPX_Time_Series_FRM_19862020.csv',\n",
    "                 delim_whitespace = True, names = ['Lambda'], parse_dates=True)\n",
    "df['Date'] = df.index\n",
    "\n",
    "df1987 = df['1987-08-01':'1988-06-01']\n",
    "numberdays = len(df1987)\n",
    "Days = pd.Series(range(0, numberdays, 1), index = df1987.index)\n",
    "df1987['Day'] = Days\n",
    "\n",
    "df2007 = df['2007-01-01':'2010-12-12']\n",
    "numberdays = len(df2007)\n",
    "Days = pd.Series(range(0, numberdays, 1), index = df2007.index)\n",
    "df2007['Day'] = Days\n",
    "\n",
    "y0 = df1987.Lambda.iloc[0]\n",
    "y = df1987.Lambda - y0\n",
    "x = np.arange(len(y))+1\n",
    "\n",
    "(N_0, K, r), cov = opt.curve_fit(hubbert_curve, x[1:], y[1:], p0 = (0, 0.1, 0.1), bounds = ([-1,0,0], [100,100,100]))\n",
    "\n",
    "df1987['Fitted'] = pd.Series(hubbert_curve(t = x, N_0 = N_0, K = K, r =r)+y0, index = df1987.index)\n",
    "\n",
    "\n",
    "df1987_long = pd.melt(df1987, id_vars=['Date'], value_vars=['Lambda', 'Fitted'])\n",
    "# fig = px.line(data_frame = df1987_long,\n",
    "#               x = 'Date', y = \"value\", color = \"variable\",\n",
    "#               template = \"ggplot2\",\n",
    "#               title = \"1987 crisis, from 1987-08-01 to 1988-06-01\", labels = {\"Lambda\":\"FRM Lambda\"})\n",
    "# fig.show()\n",
    "# plt.figure(figsize=(16,9))\n",
    "# plt.title(\"1987 crisis, from 1987-08-01 to 1988-06-01\")\n",
    "# plt.plot(x,y, label = 'FRM Lambda')\n",
    "# plt.plot(hubbert_curve(t = x, N_0 = N_0, K = K, r =r), label = 'Fitted Hubbert Curve')\n",
    "# plt.legend()\n",
    "\n"
   ]
  },
  {
   "cell_type": "code",
   "execution_count": null,
   "metadata": {},
   "outputs": [],
   "source": []
  }
 ],
 "metadata": {
  "kernelspec": {
   "display_name": "Python 3",
   "language": "python",
   "name": "python3"
  },
  "language_info": {
   "codemirror_mode": {
    "name": "ipython",
    "version": 3
   },
   "file_extension": ".py",
   "mimetype": "text/x-python",
   "name": "python",
   "nbconvert_exporter": "python",
   "pygments_lexer": "ipython3",
   "version": "3.7.4"
  }
 },
 "nbformat": 4,
 "nbformat_minor": 2
}
