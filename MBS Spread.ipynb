{
 "cells": [
  {
   "cell_type": "code",
   "execution_count": null,
   "metadata": {},
   "outputs": [],
   "source": [
    "import pandas as pd\n",
    "import matplotlib\n",
    "import matplotlib.pyplot as plt\n",
    "import numpy as np\n",
    "import scipy.optimize as opt\n",
    "from pandas.plotting import register_matplotlib_converters\n",
    "register_matplotlib_converters()\n",
    "matplotlib.rcParams['figure.figsize'] = [15, 5]"
   ]
  },
  {
   "cell_type": "code",
   "execution_count": 3,
   "metadata": {},
   "outputs": [],
   "source": [
    "df = pd.read_csv('Drivers/MBS_2007-2010.csv', header=0, names = ['Date', 'MBS_Spread'])"
   ]
  },
  {
   "cell_type": "code",
   "execution_count": 4,
   "metadata": {},
   "outputs": [],
   "source": [
    "def logistic_function(t, N_0, K, r):\n",
    "    N_t = N_0*np.exp(r*t)/(1+(N_0/K)*(np.exp(r*t)-1))\n",
    "    return N_t\n",
    "\n",
    "def hubbert_curve(t, N_0, K, r):\n",
    "    nominator = np.exp(r*t)*N_0*(K-N_0)\n",
    "    denominator = K*((1+(N_0/K)*(np.exp(r*t)-1))**2)\n",
    "    return nominator/denominator\n",
    "\n",
    "def three_hubbert_curve(t, N_0_1, K_1, r_1, N_0_2, K_2, r_2, N_0_3, K_3, r_3):\n",
    "    return three_hubbert_curve(t, N_0=N_0_1, K=K_1, r=r_1) + hubbert_curve(t, N_0=N_0_2, K=K_2,r=r_2) + hubbert_curve(t, N_0=N_0_3, K=K_3, r=r_3)\n",
    "\n"
   ]
  },
  {
   "cell_type": "code",
   "execution_count": 5,
   "metadata": {},
   "outputs": [
    {
     "ename": "NameError",
     "evalue": "name 'df2007_total' is not defined",
     "output_type": "error",
     "traceback": [
      "\u001b[0;31m---------------------------------------------------------------------------\u001b[0m",
      "\u001b[0;31mNameError\u001b[0m                                 Traceback (most recent call last)",
      "\u001b[0;32m<ipython-input-5-7fae83bcba19>\u001b[0m in \u001b[0;36m<module>\u001b[0;34m\u001b[0m\n\u001b[0;32m----> 1\u001b[0;31m \u001b[0my\u001b[0m \u001b[0;34m=\u001b[0m \u001b[0mdf2007_total\u001b[0m\u001b[0;34m.\u001b[0m\u001b[0mMBS_Spread\u001b[0m \u001b[0;34m-\u001b[0m \u001b[0mdf2007_total\u001b[0m\u001b[0;34m.\u001b[0m\u001b[0mMBS_Spread\u001b[0m\u001b[0;34m.\u001b[0m\u001b[0miloc\u001b[0m\u001b[0;34m[\u001b[0m\u001b[0;36m0\u001b[0m\u001b[0;34m]\u001b[0m\u001b[0;34m\u001b[0m\u001b[0;34m\u001b[0m\u001b[0m\n\u001b[0m\u001b[1;32m      2\u001b[0m \u001b[0mx\u001b[0m \u001b[0;34m=\u001b[0m \u001b[0mnp\u001b[0m\u001b[0;34m.\u001b[0m\u001b[0marange\u001b[0m\u001b[0;34m(\u001b[0m\u001b[0mlen\u001b[0m\u001b[0;34m(\u001b[0m\u001b[0my\u001b[0m\u001b[0;34m)\u001b[0m\u001b[0;34m)\u001b[0m\u001b[0;34m+\u001b[0m\u001b[0;36m1\u001b[0m\u001b[0;34m\u001b[0m\u001b[0;34m\u001b[0m\u001b[0m\n\u001b[1;32m      3\u001b[0m \u001b[0mplt\u001b[0m\u001b[0;34m.\u001b[0m\u001b[0mfigure\u001b[0m\u001b[0;34m(\u001b[0m\u001b[0mfigsize\u001b[0m\u001b[0;34m=\u001b[0m\u001b[0;34m(\u001b[0m\u001b[0;36m16\u001b[0m\u001b[0;34m,\u001b[0m\u001b[0;36m9\u001b[0m\u001b[0;34m)\u001b[0m\u001b[0;34m)\u001b[0m\u001b[0;34m\u001b[0m\u001b[0;34m\u001b[0m\u001b[0m\n\u001b[1;32m      4\u001b[0m \u001b[0mplt\u001b[0m\u001b[0;34m.\u001b[0m\u001b[0mtitle\u001b[0m\u001b[0;34m(\u001b[0m\u001b[0;34m\"MBS Spread 2007-2010\"\u001b[0m\u001b[0;34m)\u001b[0m\u001b[0;34m\u001b[0m\u001b[0;34m\u001b[0m\u001b[0m\n\u001b[1;32m      5\u001b[0m \u001b[0mplt\u001b[0m\u001b[0;34m.\u001b[0m\u001b[0mplot\u001b[0m\u001b[0;34m(\u001b[0m\u001b[0mx\u001b[0m\u001b[0;34m,\u001b[0m \u001b[0my\u001b[0m\u001b[0;34m)\u001b[0m\u001b[0;34m\u001b[0m\u001b[0;34m\u001b[0m\u001b[0m\n",
      "\u001b[0;31mNameError\u001b[0m: name 'df2007_total' is not defined"
     ]
    }
   ],
   "source": [
    "y = df2007_total.MBS_Spread - df2007_total.MBS_Spread.iloc[0]\n",
    "x = np.arange(len(y))+1\n",
    "plt.figure(figsize=(16,9))\n",
    "plt.title(\"MBS Spread 2007-2010\")\n",
    "plt.plot(x, y)"
   ]
  },
  {
   "cell_type": "code",
   "execution_count": null,
   "metadata": {},
   "outputs": [],
   "source": [
    "y = df.MBS_Spread - df.MBS_Spread.iloc[0]\n",
    "x = np.arange(len(y))+1\n",
    "(N_0, K, r), cov = opt.curve_fit(hubbert_curve, x[1:], y[1:], p0 = (0, 0.1, 0.1), bounds = ([-1,0,0], [100,100,100]))\n",
    "\n",
    "plt.figure(figsize=(16,9))\n",
    "plt.title(\"2007 crisis\")\n",
    "plt.plot(x,y, label = 'MBS Spread')\n",
    "plt.plot(hubbert_curve(t = x, N_0 = N_0, K = K, r =r), label = 'Fitted Hubbert Curve')\n",
    "plt.legend()"
   ]
  },
  {
   "cell_type": "code",
   "execution_count": null,
   "metadata": {},
   "outputs": [],
   "source": [
    "y = df.MBS_Spread - df.MBS_Spread.iloc[0]\n",
    "x = np.arange(len(y))+1\n",
    "(N_0, K, r), cov = opt.curve_fit(logistic_function, x[1:], y[1:].cumsum(), p0 = (0,10, 0.1), bounds = ([-1,0,0], [100,100,100]))\n",
    "\n",
    "\n",
    "plt.figure(figsize=(16,9))\n",
    "plt.title(\"2007 crisis\")\n",
    "plt.plot(x, y.cumsum(), label = 'MBS Spread')\n",
    "plt.legend()"
   ]
  },
  {
   "cell_type": "code",
   "execution_count": null,
   "metadata": {},
   "outputs": [],
   "source": [
    "df2 = pd.read_csv('Covid-19 Data/FRM_SPX_Time_Series_FRM_19862020.csv', \n",
    "                 delim_whitespace = True, names = ['Lambda'], parse_dates=True)\n",
    "df2.head()\n",
    "df2007 = df2['2007-01-01':'2010-12-12']\n",
    "df2007 = df2007.rename_axis('Date').reset_index()\n",
    "df2007.head()\n",
    "\n",
    "df.Date = pd.to_datetime(df.Date)\n",
    "df2007.Date = pd.to_datetime(df2007.Date)\n",
    "df2007_total = pd.merge(df2007,\n",
    "                 df, how='inner',\n",
    "                 on='Date')\n",
    "df2007_total.head()"
   ]
  },
  {
   "cell_type": "code",
   "execution_count": null,
   "metadata": {},
   "outputs": [],
   "source": [
    "#I tried plotting MBS Spread and FRM Lambda in the same graph, each with their own y-axes\n",
    "#but it is not working\n",
    "fig, ax = plt.subplots()\n",
    "df2007_total.MBS_Spread.plot(ax=ax, style='b-', label = 'MBS Spread')\n",
    "df2007_total.Lambda(ax=ax, style='r-', label = 'FRM Lambda', secondary_y=True)"
   ]
  },
  {
   "cell_type": "code",
   "execution_count": null,
   "metadata": {},
   "outputs": [],
   "source": [
    "#now optimizing their logistic functions, but fluctuations in MBS Spreach much higher, Lambda appears almost linear\n",
    "y = df2007_total.MBS_Spread - df2007_total.MBS_Spread.iloc[0]\n",
    "x = np.arange(len(y))+1\n",
    "(N_0, K, r), cov = opt.curve_fit(logistic_function, x[1:], y[1:].cumsum(), \n",
    "                                 p0 = (0, 10, 0.1), bounds = ([-100,0,0], [100,100,100]))\n",
    "\n",
    "\n",
    "plt.figure(figsize=(16,9))\n",
    "plt.title(\"2007 crisis\")\n",
    "plt.plot(x, y.cumsum(), label = 'MBS Spread')\n",
    "y = df2007_total.Lambda - df2007_total.Lambda.iloc[0]\n",
    "(N_0, K, r), cov = opt.curve_fit(logistic_function, x[1:], y[1:].cumsum(), \n",
    "                                 p0 = (0, 10, 0.1), bounds = ([-1,0,0], [100,100,100]))\n",
    "plt.plot(x, y.cumsum(), label = 'FRM Lambda')\n",
    "plt.legend()\n",
    "\n"
   ]
  },
  {
   "cell_type": "code",
   "execution_count": null,
   "metadata": {},
   "outputs": [],
   "source": [
    "from functools import partial\n",
    "x = np.arange(len(y))+1\n",
    "y = df2007_total.Lambda - df2007_total.Lambda.iloc[0]\n",
    "(N_0, K, r), cov = opt.curve_fit(logistic_function, x[1:], y[1:].cumsum(), \n",
    "                                 p0 = (0, 0.1, 0.1), bounds = ([-1,0,0], [100,100,100]))\n",
    "plt.figure(figsize=(16,9))\n",
    "plt.title(\"2007 crisis\")\n",
    "plt.plot(x, y.diff(), label='FRM')\n",
    "y = df2007_total.MBS_Spread - df2007_total.MBS_Spread.iloc[0]\n",
    "(N_0, K, r), cov = opt.curve_fit(logistic_function, x[1:], y[1:].cumsum(), \n",
    "                                 p0 = (0, 0.1, 0.1), bounds = ([-100,0,0], [100,100,100]))\n",
    "plt.plot(x, y.diff(), label='MBS Spread')\n",
    "plt.legend()"
   ]
  }
 ],
 "metadata": {
  "kernelspec": {
   "display_name": "Python 3",
   "language": "python",
   "name": "python3"
  },
  "language_info": {
   "codemirror_mode": {
    "name": "ipython",
    "version": 3
   },
   "file_extension": ".py",
   "mimetype": "text/x-python",
   "name": "python",
   "nbconvert_exporter": "python",
   "pygments_lexer": "ipython3",
   "version": "3.7.6"
  }
 },
 "nbformat": 4,
 "nbformat_minor": 4
}
